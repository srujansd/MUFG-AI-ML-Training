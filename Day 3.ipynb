{
 "cells": [
  {
   "cell_type": "code",
   "execution_count": 8,
   "id": "1a4b2931-1708-4471-a72a-18135d528cac",
   "metadata": {},
   "outputs": [
    {
     "name": "stdout",
     "output_type": "stream",
     "text": [
      "Enter 10 elements list\n"
     ]
    },
    {
     "name": "stdin",
     "output_type": "stream",
     "text": [
      "enterelement0: 1\n",
      "enterelement1: 3\n",
      "enterelement2: 4\n",
      "enterelement3: 6\n",
      "enterelement4: 8\n",
      "enterelement5: 3\n",
      "enterelement6: 9\n",
      "enterelement7: 2\n",
      "enterelement8: 7\n",
      "enterelement9: 0\n"
     ]
    },
    {
     "name": "stdout",
     "output_type": "stream",
     "text": [
      "list 1: [1, 3, 4, 6, 8, 3, 9, 2, 7, 0]\n",
      "list after removing: [6, 8, 2, 0]\n"
     ]
    }
   ],
   "source": [
    "### Lists\n",
    "#Accept a list with numbers having 10 elements. Remove the third element and all odd elements\n",
    "\n",
    "l1=[]\n",
    "l2=[]\n",
    "print(\"Enter 10 elements list\")\n",
    "for i in range(10):\n",
    "    s='enterelement' + str(i)+ ':'\n",
    "    ele=int(input(s))\n",
    "    l1+=[ele]\n",
    "print('list 1:',l1)\n",
    "      #remove the 3rd element\n",
    "l1.pop(2)\n",
    "#remove all odd elements\n",
    "for i in range(9):\n",
    "    if l1[i]%2==0:\n",
    "        l2.append(l1[i])\n",
    "print(\"list after removing:\",l2)"
   ]
  },
  {
   "cell_type": "code",
   "execution_count": 15,
   "id": "9a6ac17a-3b61-46d5-b01f-e1073e1cda30",
   "metadata": {},
   "outputs": [
    {
     "name": "stdout",
     "output_type": "stream",
     "text": [
      "Enter the 10 list elements\n"
     ]
    },
    {
     "name": "stdin",
     "output_type": "stream",
     "text": [
      "Enter the numbers: 1\n",
      "Enter the numbers: 3\n",
      "Enter the numbers: 4\n",
      "Enter the numbers: 6\n",
      "Enter the numbers: 8\n",
      "Enter the numbers: 3\n",
      "Enter the numbers: 9\n",
      "Enter the numbers: 2\n",
      "Enter the numbers: 7\n",
      "Enter the numbers: 0\n"
     ]
    },
    {
     "name": "stdout",
     "output_type": "stream",
     "text": [
      "The list is [1, 3, 6, 8, 3, 9, 2, 7, 0]\n",
      "Final list: [6, 8, 2, 0]\n"
     ]
    }
   ],
   "source": [
    "#or\n",
    "print(\"Enter the 10 list elements\")\n",
    "nums=[]\n",
    "for i in range(10):\n",
    "    n=int(input(\"Enter the numbers:\"))\n",
    "    nums.append(n)\n",
    "nums.pop(2)\n",
    "print(\"The list is\",nums)\n",
    "result=[]\n",
    "for x in nums:\n",
    "    if x%2 == 0:\n",
    "        result.append(x)\n",
    "print(\"Final list:\",result)"
   ]
  },
  {
   "cell_type": "code",
   "execution_count": null,
   "id": "35aa4690-4c6e-4892-958a-4a7a07caede4",
   "metadata": {},
   "outputs": [],
   "source": []
  },
  {
   "cell_type": "code",
   "execution_count": null,
   "id": "27c19a45-18ef-4eb4-838c-b2020c804512",
   "metadata": {},
   "outputs": [],
   "source": []
  }
 ],
 "metadata": {
  "kernelspec": {
   "display_name": "Python 3 (ipykernel)",
   "language": "python",
   "name": "python3"
  },
  "language_info": {
   "codemirror_mode": {
    "name": "ipython",
    "version": 3
   },
   "file_extension": ".py",
   "mimetype": "text/x-python",
   "name": "python",
   "nbconvert_exporter": "python",
   "pygments_lexer": "ipython3",
   "version": "3.12.0"
  }
 },
 "nbformat": 4,
 "nbformat_minor": 5
}
