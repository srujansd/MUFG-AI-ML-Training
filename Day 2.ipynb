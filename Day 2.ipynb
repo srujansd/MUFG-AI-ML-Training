{
 "cells": [
  {
   "cell_type": "code",
   "execution_count": 4,
   "id": "72823f73-2c5a-4d68-9da0-9bd3aed5abd6",
   "metadata": {},
   "outputs": [
    {
     "name": "stdin",
     "output_type": "stream",
     "text": [
      "Enter the string: Bangalore\n",
      "Enter the string: Bon\n"
     ]
    },
    {
     "name": "stdout",
     "output_type": "stream",
     "text": [
      "Voyage\n"
     ]
    }
   ],
   "source": [
    "#Iterations and Lists\n",
    "#Iterations\n",
    "#write a program that keeps accepting the strings until \"Bon\" is entered.. The pgm should display 'Voyage' and quit excecution\n",
    "\n",
    "while True:\n",
    "    string=input(\"Enter the string:\")\n",
    "    if string==\"Bon\":\n",
    "        print(\"Voyage\")\n",
    "        break\n",
    "    continue\n",
    "    \n",
    "\n"
   ]
  },
  {
   "cell_type": "code",
   "execution_count": 5,
   "id": "0d6afb66-bd79-4f67-b94e-b39e181d6235",
   "metadata": {},
   "outputs": [
    {
     "name": "stdin",
     "output_type": "stream",
     "text": [
      "Enter the door no and street name: 9th cross\n"
     ]
    },
    {
     "name": "stdout",
     "output_type": "stream",
     "text": [
      "9"
     ]
    }
   ],
   "source": [
    "# Write a pgm that accepts the door number and street of the user and displays only the numbers in the string\n",
    "\n",
    "address=input(\"Enter the door no and street name:\")\n",
    "for ch in address:\n",
    "    if '0' <= ch <= '9':          # we can use builtin function isdigit()\n",
    "        print(ch,end='')"
   ]
  },
  {
   "cell_type": "code",
   "execution_count": 6,
   "id": "ce2f18b8-aca3-4b46-9ca6-ad3c74b05386",
   "metadata": {},
   "outputs": [
    {
     "name": "stdin",
     "output_type": "stream",
     "text": [
      "Element 1: Hello\n",
      "Element 2: John\n",
      "Element 3: Navy\n",
      "Element 4: Army\n",
      "Element 5: Banana\n",
      "Enter your name: Srujan\n"
     ]
    },
    {
     "name": "stdout",
     "output_type": "stream",
     "text": [
      "Updated list: ['Hello', 'John', 'Srujan', 'Army', 'Srujan']\n"
     ]
    }
   ],
   "source": [
    "#Lists\n",
    "\n",
    "#Accept a list from the user with 5 elements. accept name of the user and replace the third and fifth elements of the list with the user's name\n",
    "\n",
    "user_lst=[]\n",
    "for i in range(5):\n",
    "    element = input(f\"Element {i+1}:\")\n",
    "    user_lst.append(element)\n",
    "\n",
    "name=input(\"Enter your name:\")\n",
    "user_lst[2]=name\n",
    "user_lst[4]=name\n",
    "print(\"Updated list:\",user_lst)"
   ]
  },
  {
   "cell_type": "code",
   "execution_count": null,
   "id": "89f244da-ad88-4e07-a09e-868216543081",
   "metadata": {},
   "outputs": [],
   "source": [
    "\"\"\"Write a pgm that accept a list from the user and two other inputs: The index where a new element has to be inserted and the \n",
    "element itself. The pgm should check if the index value given by the user is valid. if it's not, then a message should state that\n",
    "the new element will be appended\n",
    "\"\"\"\n",
    "\n"
   ]
  }
 ],
 "metadata": {
  "kernelspec": {
   "display_name": "Python 3 (ipykernel)",
   "language": "python",
   "name": "python3"
  },
  "language_info": {
   "codemirror_mode": {
    "name": "ipython",
    "version": 3
   },
   "file_extension": ".py",
   "mimetype": "text/x-python",
   "name": "python",
   "nbconvert_exporter": "python",
   "pygments_lexer": "ipython3",
   "version": "3.12.0"
  }
 },
 "nbformat": 4,
 "nbformat_minor": 5
}
