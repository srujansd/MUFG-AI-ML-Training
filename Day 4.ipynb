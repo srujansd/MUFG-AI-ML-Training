{
 "cells": [
  {
   "cell_type": "code",
   "execution_count": 3,
   "id": "9f5e7570-80e1-4dca-b997-c1d3d8175d33",
   "metadata": {},
   "outputs": [
    {
     "name": "stdin",
     "output_type": "stream",
     "text": [
      "Enter number of employees: 5\n",
      "Enter employee name: Alin\n",
      "Enter salary: 40000\n",
      "Enter employee name: Bob\n",
      "Enter salary: 50000\n",
      "Enter employee name: Meesh\n",
      "Enter salary: 80000\n",
      "Enter employee name: Ram\n",
      "Enter salary: 35000\n",
      "Enter employee name: sham\n",
      "Enter salary: 67990\n"
     ]
    },
    {
     "name": "stdout",
     "output_type": "stream",
     "text": [
      "Min sal: 35000.0\n",
      "max sal: 80000.0\n"
     ]
    }
   ],
   "source": [
    "#Dictionaries and Tuples\n",
    "\n",
    "#Write a python program to input 'n' employee salaries and find the min and max salary amongst 'n' employees\n",
    "\n",
    "employees ={}\n",
    "n=int(input(\"Enter number of employees:\"))\n",
    "for i in range(n):\n",
    "    name=input(\"Enter employee name:\")\n",
    "    sal=float(input(\"Enter salary:\"))\n",
    "    employees[name]=sal\n",
    "    salaries= list(employees.values())\n",
    "print(\"Min sal:\",min(salaries))\n",
    "print(\"max sal:\",max(salaries))\n"
   ]
  },
  {
   "cell_type": "code",
   "execution_count": 12,
   "id": "b90b728d-26a0-474d-a127-2dc31129f7f7",
   "metadata": {},
   "outputs": [
    {
     "name": "stdin",
     "output_type": "stream",
     "text": [
      "Enter no of emp: 4\n",
      "Enter emp name: srujan\n",
      "Enter emp no: 1345\n",
      "Enter emp name: Arun\n",
      "Enter emp no: 2445\n",
      "Enter emp name: Dilip\n",
      "Enter emp no: 1378\n",
      "Enter emp name: David\n",
      "Enter emp no: 5632\n"
     ]
    },
    {
     "name": "stdout",
     "output_type": "stream",
     "text": [
      "Name: srujan Number: 1345\n",
      "Name: Arun Number: 2445\n",
      "Name: Dilip Number: 1378\n",
      "Name: David Number: 5632\n"
     ]
    }
   ],
   "source": [
    "\"\"\"\n",
    "write a python program to input 'n' employees numbers and names and store them in a dictionary.\n",
    "Display dictionaries employees names(key) and numbers(values) together.\n",
    "\"\"\"\n",
    "employees={}\n",
    "n=int(input(\"Enter no of emp:\"))\n",
    "for i in range(n):\n",
    "    name=input(\"Enter emp name:\")\n",
    "    num=input(\"Enter emp no:\")\n",
    "    employees[name]=num\n",
    "\n",
    "for name, num in employees.items():\n",
    "    print(\"Name:\",name, \"Number:\",num)\n",
    "\n"
   ]
  },
  {
   "cell_type": "code",
   "execution_count": null,
   "id": "3107550c-f504-41fb-8ef8-bdd8254d917f",
   "metadata": {},
   "outputs": [],
   "source": []
  },
  {
   "cell_type": "code",
   "execution_count": null,
   "id": "a03d82ea-3be9-4d3d-ae63-26cc3060ab49",
   "metadata": {},
   "outputs": [],
   "source": []
  }
 ],
 "metadata": {
  "kernelspec": {
   "display_name": "Python 3 (ipykernel)",
   "language": "python",
   "name": "python3"
  },
  "language_info": {
   "codemirror_mode": {
    "name": "ipython",
    "version": 3
   },
   "file_extension": ".py",
   "mimetype": "text/x-python",
   "name": "python",
   "nbconvert_exporter": "python",
   "pygments_lexer": "ipython3",
   "version": "3.12.0"
  }
 },
 "nbformat": 4,
 "nbformat_minor": 5
}
